{
 "cells": [
  {
   "cell_type": "markdown",
   "metadata": {
    "slideshow": {
     "slide_type": "slide"
    }
   },
   "source": [
    "# Numerics of MD and some proofs from the Part 1"
   ]
  },
  {
   "cell_type": "markdown",
   "metadata": {
    "slideshow": {
     "slide_type": "slide"
    }
   },
   "source": [
    "## Claim 1\n",
    "\n",
    "Negative entropy \n",
    "\n",
    "$$\n",
    "f(x) = \\sum_{i=1}^n x_i \\log x_i\n",
    "$$\n",
    "\n",
    "is 1-strongly convex on $\\Delta = \\{ x \\in \\mathbb{R}^n_{+} \\; | \\; x_1 + \\ldots + x_n = 1 \\}$ "
   ]
  },
  {
   "cell_type": "markdown",
   "metadata": {
    "slideshow": {
     "slide_type": "slide"
    }
   },
   "source": [
    "## Test problem\n",
    "\n",
    "\\begin{align*}\n",
    "& \\min_x \\|Ax - b\\|_1\\\\\n",
    "\\text{s.t. } & x \\in \\Delta\n",
    "\\end{align*}\n",
    "\n",
    "- Subgradient $g = \\sum_{i=1}^m sign(a_i^{\\top}x - b) a_i$\n",
    "- Projected subgradient descent $(\\varphi(x) = \\frac12\\|x\\|^2_2)$\n",
    "$$\n",
    "x_{k+1} = \\arg\\min_{x \\in \\Delta} (\\langle g_k, x\\rangle + \\frac{1}{2\\alpha_k}\\|x - x_k\\|_2^2)\n",
    "$$\n",
    "Algorithm for computing projection onto simplex is provided [here](https://arxiv.org/pdf/1101.6081.pdf)\n",
    "- Entropic descent $(\\varphi(x) = \\sum_{i=1}^n x_i \\log x_i)$\n",
    "$$\n",
    "x^i_{k+1} = \\frac{x_k^i \\exp(-\\alpha_k g(x_k)_i)}{\\sum_{j=1}^n x_k^j \\exp(-\\alpha_k g(x_k)_j)}\n",
    "$$"
   ]
  },
  {
   "cell_type": "code",
   "execution_count": 147,
   "metadata": {
    "slideshow": {
     "slide_type": "slide"
    }
   },
   "outputs": [],
   "source": [
    "import numpy as np\n",
    "import matplotlib.pyplot as plt\n",
    "%matplotlib inline\n",
    "plt.rc(\"text\", usetex=True)\n",
    "import cvxpy as cvx\n",
    "from numba import jit"
   ]
  },
  {
   "cell_type": "code",
   "execution_count": 148,
   "metadata": {
    "slideshow": {
     "slide_type": "slide"
    }
   },
   "outputs": [],
   "source": [
    "def entropic_descent(subgrad, step_size, max_iter, x0):\n",
    "    x = x0.copy()\n",
    "    conv = [x]\n",
    "    for i in range(max_iter):\n",
    "        g = subgrad(x)\n",
    "        x = x * np.exp(-step_size * g) / np.sum(x * np.exp(-step_size * g))\n",
    "        conv.append(x)\n",
    "    return x, conv"
   ]
  },
  {
   "cell_type": "code",
   "execution_count": 149,
   "metadata": {
    "slideshow": {
     "slide_type": "slide"
    }
   },
   "outputs": [],
   "source": [
    "@jit(nopython=True)\n",
    "def proj(y):\n",
    "    x = y.copy()\n",
    "    if np.all(x >= 0) and np.sum(x) <= 1:\n",
    "        return x\n",
    "    x[x < 0] = 0\n",
    "    if np.sum(x) <= 1:\n",
    "        return x\n",
    "    n = x.shape[0]\n",
    "    bget = False\n",
    "    x.sort()\n",
    "    x = x[::-1]\n",
    "    temp_sum = 0\n",
    "    for i in range(n - 1):\n",
    "        temp_sum += x[i]\n",
    "        t_hat = (temp_sum - 1.0) / (i + 1)\n",
    "        if t_hat >= x[i + 1]:\n",
    "            bget = True\n",
    "            break\n",
    "    if not bget:\n",
    "        t_hat = (temp_sum + x[n - 1] - 1.0) / n\n",
    "    return np.maximum(y - t_hat, 0)"
   ]
  },
  {
   "cell_type": "code",
   "execution_count": 150,
   "metadata": {
    "slideshow": {
     "slide_type": "slide"
    }
   },
   "outputs": [],
   "source": [
    "def proj_subgrad(subgrad, proj, step_size, max_iter, x0):\n",
    "    x = x0.copy()\n",
    "    conv = [x]\n",
    "    for i in range(max_iter):\n",
    "        g = subgrad(x)\n",
    "        x = proj(x - step_size * g)\n",
    "        conv.append(x)\n",
    "    return x, conv"
   ]
  },
  {
   "cell_type": "code",
   "execution_count": 151,
   "metadata": {
    "slideshow": {
     "slide_type": "slide"
    }
   },
   "outputs": [],
   "source": [
    "m = 20\n",
    "n = 3000\n",
    "A = np.random.randn(m, n)\n",
    "# x_true = np.random.rand(n)\n",
    "# x_true = x_true / np.linalg.norm(x_true, 1)\n",
    "x_true = np.zeros(n)\n",
    "x_true[0] = 0.5\n",
    "x_true[1] = 0.5\n",
    "b = A.dot(x_true)\n",
    "# b = 0.5 * (A[:, 0] + A[:, 1])"
   ]
  },
  {
   "cell_type": "code",
   "execution_count": 152,
   "metadata": {
    "slideshow": {
     "slide_type": "slide"
    }
   },
   "outputs": [],
   "source": [
    "x0 = np.ones(n) / n\n",
    "max_iter = 10000\n",
    "step_size_md = 1e-3\n",
    "step_size_sg = 1e-5"
   ]
  },
  {
   "cell_type": "code",
   "execution_count": 153,
   "metadata": {
    "slideshow": {
     "slide_type": "slide"
    }
   },
   "outputs": [],
   "source": [
    "subgrad = lambda x: np.sum(A.T * np.sign(A.dot(x) - b), axis=1)\n",
    "f = lambda x: np.linalg.norm(A.dot(x) - b, 1)"
   ]
  },
  {
   "cell_type": "code",
   "execution_count": 154,
   "metadata": {
    "slideshow": {
     "slide_type": "slide"
    }
   },
   "outputs": [
    {
     "name": "stdout",
     "output_type": "stream",
     "text": [
      "1.0\n",
      "1.0000000000000022\n"
     ]
    }
   ],
   "source": [
    "x_entr, conv_entr = entropic_descent(subgrad, step_size_md, max_iter, x0)\n",
    "print(np.linalg.norm(x_entr, 1))\n",
    "x_subgr, conv_projsub = proj_subgrad(subgrad, proj, step_size_sg, max_iter, x0)\n",
    "print(np.linalg.norm(x_subgr, 1))"
   ]
  },
  {
   "cell_type": "code",
   "execution_count": 155,
   "metadata": {
    "slideshow": {
     "slide_type": "slide"
    }
   },
   "outputs": [
    {
     "data": {
      "text/plain": [
       "<matplotlib.legend.Legend at 0x12edc4400>"
      ]
     },
     "execution_count": 155,
     "metadata": {},
     "output_type": "execute_result"
    },
    {
     "data": {
      "image/png": "[encoded data removed]",
      "text/plain": [
       "<Figure size 432x288 with 1 Axes>"
      ]
     },
     "metadata": {},
     "output_type": "display_data"
    }
   ],
   "source": [
    "plt.semilogy([f(x) for x in conv_entr], label=\"Entropy\")\n",
    "plt.semilogy([f(x) for x in conv_projsub], label=\"Proj subgrad\")\n",
    "plt.legend()"
   ]
  },
  {
   "cell_type": "markdown",
   "metadata": {
    "slideshow": {
     "slide_type": "slide"
    }
   },
   "source": [
    "## Subgradient method\n",
    "\n",
    "- Analogue of gradient descent but for non-smooth convex function \n",
    "$$\n",
    "x_{k+1} = x_k - \\alpha_k g_k,\n",
    "$$\n",
    "where $g_k$ is subgradient in $x_k$\n",
    "- What is difference with gradient descent?"
   ]
  },
  {
   "cell_type": "markdown",
   "metadata": {
    "slideshow": {
     "slide_type": "slide"
    }
   },
   "source": [
    "### Step size selection\n",
    "\n",
    "- Constant\n",
    "- Decreasing sequence $\\alpha_k \\to 0$ and $\\sum_{k=1}^{\\infty} \\alpha_k = \\infty$"
   ]
  },
  {
   "cell_type": "markdown",
   "metadata": {
    "slideshow": {
     "slide_type": "slide"
    }
   },
   "source": [
    "### Convergence analysis\n",
    "\n",
    "- $\\|x_{k+1} - x^*\\|_2 = \\|x_k - \\alpha_k g_k - x^*\\| \\leq \\|x_k - x^*\\|_2 - 2\\alpha_k g^{\\top}_k(x_k - x^*) + \\alpha^2_k \\|g\\|_2^2 \\leq \\|x_k - x^*\\|_2 - 2\\alpha_k (f(x_k) - f^*) + \\alpha^2_k \\|g\\|_2^2$\n",
    "- Using the best function value after $k$ iterations $f_{best}^{(k)}$\n",
    "$$\n",
    "2 \\left(\\sum_{i=1}^k \\alpha_i\\right) (f^{(k)}_{best} - f^*) \\leq \\| x_0 - x^*\\|_2^2 - \\|x_k - x^* \\|_2^2 + \\sum_{i=1}^k \\alpha^2_i \\|g_i\\|_2^2 \\leq \\| x_0 - x^*\\|_2^2 + \\sum_{i=1}^k \\alpha^2_i \\|g_i\\|_2^2\n",
    "$$"
   ]
  },
  {
   "cell_type": "markdown",
   "metadata": {
    "slideshow": {
     "slide_type": "slide"
    }
   },
   "source": [
    "#### Constant step size\n",
    "\n",
    "$$\n",
    "f^{(k)}_{best} - f^* \\leq \\frac{\\| x_0 - x^*\\|_2^2}{2k\\alpha} + \\frac{G^2 \\alpha}{2}\n",
    "$$\n",
    "\n",
    "- What is $G$?\n",
    "- Is here convergence in $f$?"
   ]
  },
  {
   "cell_type": "markdown",
   "metadata": {
    "slideshow": {
     "slide_type": "slide"
    }
   },
   "source": [
    "### Decreasing sequence\n",
    "\n",
    "- $\\alpha_i \\to 0$ and $\\sum_i^{\\infty}\\alpha_i = \\infty$\n",
    "\n",
    "$$\n",
    "f^{(k)}_{best} - f^* \\leq \\frac{\\| x_0 - x^*\\|_2^2 + G^2 \\sum_{i=1}^k \\alpha_i^2}{2\\sum_{i=1}^k \\alpha_i}\n",
    "$$"
   ]
  },
  {
   "cell_type": "markdown",
   "metadata": {
    "slideshow": {
     "slide_type": "slide"
    }
   },
   "source": [
    "### Experiment\n",
    "\n",
    "$$\n",
    "\\|Ax - b\\|_1 \\to \\min_x\n",
    "$$"
   ]
  },
  {
   "cell_type": "code",
   "execution_count": 156,
   "metadata": {
    "slideshow": {
     "slide_type": "slide"
    }
   },
   "outputs": [],
   "source": [
    "import liboptpy.unconstr_solvers as methods\n",
    "import liboptpy.step_size as ss\n",
    "\n",
    "m, n = 500, 100\n",
    "A = np.random.randn(m, n)\n",
    "x_true = np.random.randn(n)\n",
    "b = A.dot(x_true)"
   ]
  },
  {
   "cell_type": "code",
   "execution_count": 157,
   "metadata": {
    "slideshow": {
     "slide_type": "slide"
    }
   },
   "outputs": [],
   "source": [
    "f = lambda x: np.linalg.norm(A.dot(x) - b, 1)\n",
    "subgrad = lambda x: A.T.dot(np.sign(A.dot(x) - b))\n",
    "\n",
    "sg_methods = {\n",
    "    \"SM 1 / k\": methods.fo.SubgradientMethod(f, subgrad, ss.InvIterStepSize()),\n",
    "    \"SM fixed\": methods.fo.SubgradientMethod(f, subgrad, ss.ConstantStepSize(1e-3)),\n",
    "    \"SM scaled fix\": methods.fo.SubgradientMethod(f, subgrad, \n",
    "                                                  ss.ScaledConstantStepSize(1.)),\n",
    "}"
   ]
  },
  {
   "cell_type": "code",
   "execution_count": 158,
   "metadata": {
    "slideshow": {
     "slide_type": "slide"
    }
   },
   "outputs": [],
   "source": [
    "x0 = np.random.randn(n)\n",
    "max_iter = 15000"
   ]
  },
  {
   "cell_type": "code",
   "execution_count": 159,
   "metadata": {
    "slideshow": {
     "slide_type": "slide"
    }
   },
   "outputs": [],
   "source": [
    "for m in sg_methods:\n",
    "    _ = sg_methods[m].solve(x0=x0, max_iter=max_iter)"
   ]
  },
  {
   "cell_type": "code",
   "execution_count": 160,
   "metadata": {
    "slideshow": {
     "slide_type": "slide"
    }
   },
   "outputs": [
    {
     "data": {
      "text/plain": [
       "Text(0, 0.5, 'Objective, $f(x_k)$')"
      ]
     },
     "execution_count": 160,
     "metadata": {},
     "output_type": "execute_result"
    },
    {
     "data": {
      "image/png": "[encoded data removed]",
      "text/plain": [
       "<Figure size 432x288 with 1 Axes>"
      ]
     },
     "metadata": {},
     "output_type": "display_data"
    }
   ],
   "source": [
    "for m in sg_methods:\n",
    "    plt.semilogy([f(x) for x in sg_methods[m].get_convergence()], label=m)\n",
    "plt.legend()\n",
    "plt.xlabel(r\"Number of iterations, $k$\", fontsize=26)\n",
    "plt.ylabel(r\"Objective, $f(x_k)$\", fontsize=26)"
   ]
  }
 ],
 "metadata": {
  "celltoolbar": "Slideshow",
  "kernelspec": {
   "display_name": "Python 3 (cvxpy)",
   "language": "python",
   "name": "cvxpy"
  },
  "language_info": {
   "codemirror_mode": {
    "name": "ipython",
    "version": 3
   },
   "file_extension": ".py",
   "mimetype": "text/x-python",
   "name": "python",
   "nbconvert_exporter": "python",
   "pygments_lexer": "ipython3",
   "version": "3.6.4"
  }
 },
 "nbformat": 4,
 "nbformat_minor": 2
}
